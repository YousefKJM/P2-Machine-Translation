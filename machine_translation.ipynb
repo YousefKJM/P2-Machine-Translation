{
 "cells": [
  {
   "cell_type": "markdown",
   "metadata": {
    "collapsed": true
   },
   "source": [
    "# Artificial Intelligence Nanodegree\n",
    "## Machine Translation Project\n",
    "In this notebook, sections that end with **'(IMPLEMENTATION)'** in the header indicate that the following blocks of code will require additional functionality which you must provide. Please be sure to read the instructions carefully!\n",
    "\n",
    "## Introduction\n",
    "In this notebook, you will build a deep neural network that functions as part of an end-to-end machine translation pipeline. Your completed pipeline will accept English text as input and return the French translation.\n",
    "\n",
    "- **Preprocess** - You'll convert text to sequence of integers.\n",
    "- **Models** Create models which accepts a sequence of integers as input and returns a probability distribution over possible translations. After learning about the basic types of neural networks that are often used for machine translation, you will engage in your own investigations, to design your own model!\n",
    "- **Prediction** Run the model on English text."
   ]
  },
  {
   "cell_type": "code",
   "execution_count": 52,
   "metadata": {},
   "outputs": [
    {
     "name": "stdout",
     "output_type": "stream",
     "text": [
      "The autoreload extension is already loaded. To reload it, use:\n",
      "  %reload_ext autoreload\n"
     ]
    }
   ],
   "source": [
    "%load_ext autoreload\n",
    "%aimport helper, tests\n",
    "%autoreload 1"
   ]
  },
  {
   "cell_type": "code",
   "execution_count": 53,
   "metadata": {},
   "outputs": [],
   "source": [
    "import collections\n",
    "\n",
    "import helper\n",
    "import numpy as np\n",
    "import project_tests as tests\n",
    "\n",
    "from keras.preprocessing.text import Tokenizer\n",
    "from keras.preprocessing.sequence import pad_sequences\n",
    "from keras.models import Model\n",
    "from keras.layers import GRU, Input, Dense, TimeDistributed, Activation, RepeatVector, Bidirectional\n",
    "from keras.layers.embeddings import Embedding\n",
    "from keras.optimizers import Adam\n",
    "from keras.losses import sparse_categorical_crossentropy"
   ]
  },
  {
   "cell_type": "markdown",
   "metadata": {},
   "source": [
    "### Verify access to the GPU\n",
    "The following test applies only if you expect to be using a GPU, e.g., while running in a Udacity Workspace or using an AWS instance with GPU support. Run the next cell, and verify that the device_type is \"GPU\".\n",
    "- If the device is not GPU & you are running from a Udacity Workspace, then save your workspace with the icon at the top, then click \"enable\" at the bottom of the workspace.\n",
    "- If the device is not GPU & you are running from an AWS instance, then refer to the cloud computing instructions in the classroom to verify your setup steps."
   ]
  },
  {
   "cell_type": "code",
   "execution_count": 54,
   "metadata": {},
   "outputs": [
    {
     "name": "stdout",
     "output_type": "stream",
     "text": [
      "[name: \"/cpu:0\"\n",
      "device_type: \"CPU\"\n",
      "memory_limit: 268435456\n",
      "locality {\n",
      "}\n",
      "incarnation: 7974453759413122731\n",
      ", name: \"/gpu:0\"\n",
      "device_type: \"GPU\"\n",
      "memory_limit: 313393152\n",
      "locality {\n",
      "  bus_id: 1\n",
      "}\n",
      "incarnation: 6279063002686453095\n",
      "physical_device_desc: \"device: 0, name: Tesla K80, pci bus id: 0000:00:04.0\"\n",
      "]\n"
     ]
    }
   ],
   "source": [
    "from tensorflow.python.client import device_lib\n",
    "print(device_lib.list_local_devices())"
   ]
  },
  {
   "cell_type": "markdown",
   "metadata": {},
   "source": [
    "## Dataset\n",
    "We begin by investigating the dataset that will be used to train and evaluate your pipeline.  The most common datasets used for machine translation are from [WMT](http://www.statmt.org/).  However, that will take a long time to train a neural network on.  We'll be using a dataset we created for this project that contains a small vocabulary.  You'll be able to train your model in a reasonable time with this dataset.\n",
    "### Load Data\n",
    "The data is located in `data/small_vocab_en` and `data/small_vocab_fr`. The `small_vocab_en` file contains English sentences with their French translations in the `small_vocab_fr` file. Load the English and French data from these files from running the cell below."
   ]
  },
  {
   "cell_type": "code",
   "execution_count": 55,
   "metadata": {},
   "outputs": [
    {
     "name": "stdout",
     "output_type": "stream",
     "text": [
      "Dataset Loaded\n"
     ]
    }
   ],
   "source": [
    "# Load English data\n",
    "english_sentences = helper.load_data('data/small_vocab_en')\n",
    "# Load French data\n",
    "french_sentences = helper.load_data('data/small_vocab_fr')\n",
    "\n",
    "print('Dataset Loaded')"
   ]
  },
  {
   "cell_type": "markdown",
   "metadata": {},
   "source": [
    "### Files\n",
    "Each line in `small_vocab_en` contains an English sentence with the respective translation in each line of `small_vocab_fr`.  View the first two lines from each file."
   ]
  },
  {
   "cell_type": "code",
   "execution_count": 56,
   "metadata": {},
   "outputs": [
    {
     "name": "stdout",
     "output_type": "stream",
     "text": [
      "small_vocab_en Line 1:  new jersey is sometimes quiet during autumn , and it is snowy in april .\n",
      "small_vocab_fr Line 1:  new jersey est parfois calme pendant l' automne , et il est neigeux en avril .\n",
      "small_vocab_en Line 2:  the united states is usually chilly during july , and it is usually freezing in november .\n",
      "small_vocab_fr Line 2:  les états-unis est généralement froid en juillet , et il gèle habituellement en novembre .\n"
     ]
    }
   ],
   "source": [
    "for sample_i in range(2):\n",
    "    print('small_vocab_en Line {}:  {}'.format(sample_i + 1, english_sentences[sample_i]))\n",
    "    print('small_vocab_fr Line {}:  {}'.format(sample_i + 1, french_sentences[sample_i]))"
   ]
  },
  {
   "cell_type": "markdown",
   "metadata": {},
   "source": [
    "From looking at the sentences, you can see they have been preprocessed already.  The puncuations have been delimited using spaces. All the text have been converted to lowercase.  This should save you some time, but the text requires more preprocessing.\n",
    "### Vocabulary\n",
    "The complexity of the problem is determined by the complexity of the vocabulary.  A more complex vocabulary is a more complex problem.  Let's look at the complexity of the dataset we'll be working with."
   ]
  },
  {
   "cell_type": "code",
   "execution_count": 57,
   "metadata": {},
   "outputs": [
    {
     "name": "stdout",
     "output_type": "stream",
     "text": [
      "1823250 English words.\n",
      "227 unique English words.\n",
      "10 Most common words in the English dataset:\n",
      "\"is\" \",\" \".\" \"in\" \"it\" \"during\" \"the\" \"but\" \"and\" \"sometimes\"\n",
      "\n",
      "1961295 French words.\n",
      "355 unique French words.\n",
      "10 Most common words in the French dataset:\n",
      "\"est\" \".\" \",\" \"en\" \"il\" \"les\" \"mais\" \"et\" \"la\" \"parfois\"\n"
     ]
    }
   ],
   "source": [
    "english_words_counter = collections.Counter([word for sentence in english_sentences for word in sentence.split()])\n",
    "french_words_counter = collections.Counter([word for sentence in french_sentences for word in sentence.split()])\n",
    "\n",
    "print('{} English words.'.format(len([word for sentence in english_sentences for word in sentence.split()])))\n",
    "print('{} unique English words.'.format(len(english_words_counter)))\n",
    "print('10 Most common words in the English dataset:')\n",
    "print('\"' + '\" \"'.join(list(zip(*english_words_counter.most_common(10)))[0]) + '\"')\n",
    "print()\n",
    "print('{} French words.'.format(len([word for sentence in french_sentences for word in sentence.split()])))\n",
    "print('{} unique French words.'.format(len(french_words_counter)))\n",
    "print('10 Most common words in the French dataset:')\n",
    "print('\"' + '\" \"'.join(list(zip(*french_words_counter.most_common(10)))[0]) + '\"')"
   ]
  },
  {
   "cell_type": "markdown",
   "metadata": {},
   "source": [
    "For comparison, _Alice's Adventures in Wonderland_ contains 2,766 unique words of a total of 15,500 words.\n",
    "## Preprocess\n",
    "For this project, you won't use text data as input to your model. Instead, you'll convert the text into sequences of integers using the following preprocess methods:\n",
    "1. Tokenize the words into ids\n",
    "2. Add padding to make all the sequences the same length.\n",
    "\n",
    "Time to start preprocessing the data...\n",
    "### Tokenize (IMPLEMENTATION)\n",
    "For a neural network to predict on text data, it first has to be turned into data it can understand. Text data like \"dog\" is a sequence of ASCII character encodings.  Since a neural network is a series of multiplication and addition operations, the input data needs to be number(s).\n",
    "\n",
    "We can turn each character into a number or each word into a number.  These are called character and word ids, respectively.  Character ids are used for character level models that generate text predictions for each character.  A word level model uses word ids that generate text predictions for each word.  Word level models tend to learn better, since they are lower in complexity, so we'll use those.\n",
    "\n",
    "Turn each sentence into a sequence of words ids using Keras's [`Tokenizer`](https://keras.io/preprocessing/text/#tokenizer) function. Use this function to tokenize `english_sentences` and `french_sentences` in the cell below.\n",
    "\n",
    "Running the cell will run `tokenize` on sample data and show output for debugging."
   ]
  },
  {
   "cell_type": "code",
   "execution_count": 58,
   "metadata": {},
   "outputs": [
    {
     "name": "stdout",
     "output_type": "stream",
     "text": [
      "{'the': 1, 'quick': 2, 'a': 3, 'brown': 4, 'fox': 5, 'jumps': 6, 'over': 7, 'lazy': 8, 'dog': 9, 'by': 10, 'jove': 11, 'my': 12, 'study': 13, 'of': 14, 'lexicography': 15, 'won': 16, 'prize': 17, 'this': 18, 'is': 19, 'short': 20, 'sentence': 21}\n",
      "\n",
      "Sequence 1 in x\n",
      "  Input:  The quick brown fox jumps over the lazy dog .\n",
      "  Output: [1, 2, 4, 5, 6, 7, 1, 8, 9]\n",
      "Sequence 2 in x\n",
      "  Input:  By Jove , my quick study of lexicography won a prize .\n",
      "  Output: [10, 11, 12, 2, 13, 14, 15, 16, 3, 17]\n",
      "Sequence 3 in x\n",
      "  Input:  This is a short sentence .\n",
      "  Output: [18, 19, 3, 20, 21]\n"
     ]
    }
   ],
   "source": [
    "def tokenize(x):\n",
    "    \"\"\"\n",
    "    Tokenize x\n",
    "    :param x: List of sentences/strings to be tokenized\n",
    "    :return: Tuple of (tokenized x data, tokenizer used to tokenize x)\n",
    "    \"\"\"\n",
    "    # TODO: Implement\n",
    "    x_tokenise = Tokenizer()\n",
    "    x_tokenise.fit_on_texts(x)\n",
    "    return x_tokenise.texts_to_sequences(x), x_tokenise\n",
    "tests.test_tokenize(tokenize)\n",
    "\n",
    "# Tokenize Example output\n",
    "text_sentences = [\n",
    "    'The quick brown fox jumps over the lazy dog .',\n",
    "    'By Jove , my quick study of lexicography won a prize .',\n",
    "    'This is a short sentence .']\n",
    "text_tokenized, text_tokenizer = tokenize(text_sentences)\n",
    "print(text_tokenizer.word_index)\n",
    "print()\n",
    "for sample_i, (sent, token_sent) in enumerate(zip(text_sentences, text_tokenized)):\n",
    "    print('Sequence {} in x'.format(sample_i + 1))\n",
    "    print('  Input:  {}'.format(sent))\n",
    "    print('  Output: {}'.format(token_sent))"
   ]
  },
  {
   "cell_type": "markdown",
   "metadata": {},
   "source": [
    "### Padding (IMPLEMENTATION)\n",
    "When batching the sequence of word ids together, each sequence needs to be the same length.  Since sentences are dynamic in length, we can add padding to the end of the sequences to make them the same length.\n",
    "\n",
    "Make sure all the English sequences have the same length and all the French sequences have the same length by adding padding to the **end** of each sequence using Keras's [`pad_sequences`](https://keras.io/preprocessing/sequence/#pad_sequences) function."
   ]
  },
  {
   "cell_type": "code",
   "execution_count": 59,
   "metadata": {},
   "outputs": [
    {
     "name": "stdout",
     "output_type": "stream",
     "text": [
      "Sequence 1 in x\n",
      "  Input:  [1 2 4 5 6 7 1 8 9]\n",
      "  Output: [1 2 4 5 6 7 1 8 9 0]\n",
      "Sequence 2 in x\n",
      "  Input:  [10 11 12  2 13 14 15 16  3 17]\n",
      "  Output: [10 11 12  2 13 14 15 16  3 17]\n",
      "Sequence 3 in x\n",
      "  Input:  [18 19  3 20 21]\n",
      "  Output: [18 19  3 20 21  0  0  0  0  0]\n"
     ]
    }
   ],
   "source": [
    "def pad(x, length=None):\n",
    "    \"\"\"\n",
    "    Pad x\n",
    "    :param x: List of sequences.\n",
    "    :param length: Length to pad the sequence to.  If None, use length of longest sequence in x.\n",
    "    :return: Padded numpy array of sequences\n",
    "    \"\"\"\n",
    "    # TODO: Implement\n",
    "    if length is None:\n",
    "        # We try to find the length of the longest sequence/sentence\n",
    "        length = max([len(seq) for seq in x])\n",
    "    return pad_sequences(sequences=x, maxlen=length, padding='post')\n",
    "tests.test_pad(pad)\n",
    "\n",
    "# Pad Tokenized output\n",
    "test_pad = pad(text_tokenized)\n",
    "for sample_i, (token_sent, pad_sent) in enumerate(zip(text_tokenized, test_pad)):\n",
    "    print('Sequence {} in x'.format(sample_i + 1))\n",
    "    print('  Input:  {}'.format(np.array(token_sent)))\n",
    "    print('  Output: {}'.format(pad_sent))"
   ]
  },
  {
   "cell_type": "markdown",
   "metadata": {},
   "source": [
    "### Preprocess Pipeline\n",
    "Your focus for this project is to build neural network architecture, so we won't ask you to create a preprocess pipeline.  Instead, we've provided you with the implementation of the `preprocess` function."
   ]
  },
  {
   "cell_type": "code",
   "execution_count": 60,
   "metadata": {},
   "outputs": [
    {
     "name": "stdout",
     "output_type": "stream",
     "text": [
      "Data Preprocessed\n",
      "Max English sentence length: 15\n",
      "Max French sentence length: 21\n",
      "English vocabulary size: 199\n",
      "French vocabulary size: 344\n"
     ]
    }
   ],
   "source": [
    "def preprocess(x, y):\n",
    "    \"\"\"\n",
    "    Preprocess x and y\n",
    "    :param x: Feature List of sentences\n",
    "    :param y: Label List of sentences\n",
    "    :return: Tuple of (Preprocessed x, Preprocessed y, x tokenizer, y tokenizer)\n",
    "    \"\"\"\n",
    "    preprocess_x, x_tk = tokenize(x)\n",
    "    preprocess_y, y_tk = tokenize(y)\n",
    "\n",
    "    preprocess_x = pad(preprocess_x)\n",
    "    preprocess_y = pad(preprocess_y)\n",
    "\n",
    "    # Keras's sparse_categorical_crossentropy function requires the labels to be in 3 dimensions\n",
    "    preprocess_y = preprocess_y.reshape(*preprocess_y.shape, 1)\n",
    "\n",
    "    return preprocess_x, preprocess_y, x_tk, y_tk\n",
    "\n",
    "preproc_english_sentences, preproc_french_sentences, english_tokenizer, french_tokenizer =\\\n",
    "    preprocess(english_sentences, french_sentences)\n",
    "    \n",
    "max_english_sequence_length = preproc_english_sentences.shape[1]\n",
    "max_french_sequence_length = preproc_french_sentences.shape[1]\n",
    "english_vocab_size = len(english_tokenizer.word_index)\n",
    "french_vocab_size = len(french_tokenizer.word_index)\n",
    "\n",
    "print('Data Preprocessed')\n",
    "print(\"Max English sentence length:\", max_english_sequence_length)\n",
    "print(\"Max French sentence length:\", max_french_sequence_length)\n",
    "print(\"English vocabulary size:\", english_vocab_size)\n",
    "print(\"French vocabulary size:\", french_vocab_size)"
   ]
  },
  {
   "cell_type": "markdown",
   "metadata": {},
   "source": [
    "## Models\n",
    "In this section, you will experiment with various neural network architectures.\n",
    "You will begin by training four relatively simple architectures.\n",
    "- Model 1 is a simple RNN\n",
    "- Model 2 is a RNN with Embedding\n",
    "- Model 3 is a Bidirectional RNN\n",
    "- Model 4 is an optional Encoder-Decoder RNN\n",
    "\n",
    "After experimenting with the four simple architectures, you will construct a deeper architecture that is designed to outperform all four models.\n",
    "### Ids Back to Text\n",
    "The neural network will be translating the input to words ids, which isn't the final form we want.  We want the French translation.  The function `logits_to_text` will bridge the gab between the logits from the neural network to the French translation.  You'll be using this function to better understand the output of the neural network."
   ]
  },
  {
   "cell_type": "code",
   "execution_count": 61,
   "metadata": {},
   "outputs": [
    {
     "name": "stdout",
     "output_type": "stream",
     "text": [
      "`logits_to_text` function loaded.\n"
     ]
    }
   ],
   "source": [
    "def logits_to_text(logits, tokenizer):\n",
    "    \"\"\"\n",
    "    Turn logits from a neural network into text using the tokenizer\n",
    "    :param logits: Logits from a neural network\n",
    "    :param tokenizer: Keras Tokenizer fit on the labels\n",
    "    :return: String that represents the text of the logits\n",
    "    \"\"\"\n",
    "    index_to_words = {id: word for word, id in tokenizer.word_index.items()}\n",
    "    index_to_words[0] = '<PAD>'\n",
    "\n",
    "    return ' '.join([index_to_words[prediction] for prediction in np.argmax(logits, 1)])\n",
    "\n",
    "print('`logits_to_text` function loaded.')"
   ]
  },
  {
   "cell_type": "markdown",
   "metadata": {},
   "source": [
    "### Model 1: RNN (IMPLEMENTATION)\n",
    "![RNN](images/rnn.png)\n",
    "A basic RNN model is a good baseline for sequence data.  In this model, you'll build a RNN that translates English to French."
   ]
  },
  {
   "cell_type": "code",
   "execution_count": 62,
   "metadata": {},
   "outputs": [
    {
     "name": "stdout",
     "output_type": "stream",
     "text": [
      "Train on 110288 samples, validate on 27573 samples\n",
      "Epoch 1/20\n",
      "110288/110288 [==============================] - 18s 159us/step - loss: 2.2220 - acc: 0.5207 - val_loss: nan - val_acc: 0.5922\n",
      "Epoch 2/20\n",
      "110288/110288 [==============================] - 17s 158us/step - loss: 1.4251 - acc: 0.6110 - val_loss: nan - val_acc: 0.6263\n",
      "Epoch 3/20\n",
      "110288/110288 [==============================] - 17s 156us/step - loss: 1.2529 - acc: 0.6380 - val_loss: nan - val_acc: 0.6423\n",
      "Epoch 4/20\n",
      "110288/110288 [==============================] - 17s 157us/step - loss: 1.1429 - acc: 0.6561 - val_loss: nan - val_acc: 0.6635\n",
      "Epoch 5/20\n",
      "110288/110288 [==============================] - 17s 154us/step - loss: 1.0658 - acc: 0.6707 - val_loss: nan - val_acc: 0.6737\n",
      "Epoch 6/20\n",
      "110288/110288 [==============================] - 17s 155us/step - loss: 1.0110 - acc: 0.6783 - val_loss: nan - val_acc: 0.6762\n",
      "Epoch 7/20\n",
      "110288/110288 [==============================] - 17s 155us/step - loss: 0.9644 - acc: 0.6867 - val_loss: nan - val_acc: 0.6926\n",
      "Epoch 8/20\n",
      "110288/110288 [==============================] - 17s 155us/step - loss: 0.9233 - acc: 0.6959 - val_loss: nan - val_acc: 0.7102\n",
      "Epoch 9/20\n",
      "110288/110288 [==============================] - 17s 154us/step - loss: 0.8831 - acc: 0.7073 - val_loss: nan - val_acc: 0.7067\n",
      "Epoch 10/20\n",
      "110288/110288 [==============================] - 17s 154us/step - loss: 0.8434 - acc: 0.7206 - val_loss: nan - val_acc: 0.7236\n",
      "Epoch 11/20\n",
      "110288/110288 [==============================] - 17s 155us/step - loss: 0.8058 - acc: 0.7361 - val_loss: nan - val_acc: 0.7246\n",
      "Epoch 12/20\n",
      "110288/110288 [==============================] - 17s 153us/step - loss: 0.7752 - acc: 0.7485 - val_loss: nan - val_acc: 0.7522\n",
      "Epoch 13/20\n",
      "110288/110288 [==============================] - 17s 154us/step - loss: 0.7372 - acc: 0.7647 - val_loss: nan - val_acc: 0.7709\n",
      "Epoch 14/20\n",
      "110288/110288 [==============================] - 17s 152us/step - loss: 0.7059 - acc: 0.7778 - val_loss: nan - val_acc: 0.7914\n",
      "Epoch 15/20\n",
      "110288/110288 [==============================] - 17s 154us/step - loss: 0.6809 - acc: 0.7865 - val_loss: nan - val_acc: 0.7873\n",
      "Epoch 16/20\n",
      "110288/110288 [==============================] - 17s 153us/step - loss: 0.6631 - acc: 0.7919 - val_loss: nan - val_acc: 0.7991\n",
      "Epoch 17/20\n",
      "110288/110288 [==============================] - 17s 153us/step - loss: 0.6424 - acc: 0.7996 - val_loss: nan - val_acc: 0.8086\n",
      "Epoch 18/20\n",
      "110288/110288 [==============================] - 17s 156us/step - loss: 0.6225 - acc: 0.8066 - val_loss: nan - val_acc: 0.7943\n",
      "Epoch 19/20\n",
      "110288/110288 [==============================] - 17s 153us/step - loss: 0.6118 - acc: 0.8085 - val_loss: nan - val_acc: 0.8133\n",
      "Epoch 20/20\n",
      "110288/110288 [==============================] - 17s 154us/step - loss: 0.5901 - acc: 0.8162 - val_loss: nan - val_acc: 0.8185\n",
      "new jersey est parfois calme en l' de l' automne et il en en en <PAD> <PAD> <PAD> <PAD> <PAD> <PAD>\n"
     ]
    }
   ],
   "source": [
    "def simple_model(input_shape, output_sequence_length, english_vocab_size, french_vocab_size):\n",
    "    \"\"\"\n",
    "    Build and train a basic RNN on x and y\n",
    "    :param input_shape: Tuple of input shape\n",
    "    :param output_sequence_length: Length of output sequence\n",
    "    :param english_vocab_size: Number of unique English words in the dataset\n",
    "    :param french_vocab_size: Number of unique French words in the dataset\n",
    "    :return: Keras model built, but not trained\n",
    "    \"\"\"\n",
    "    # TODO: Build the layers\n",
    "#     print(\"Debug input_shape =\" , input_shape, \"  Input length=\", input_shape[1:][0])\n",
    "#     print(\"Debug output_sequence_length =\" , output_sequence_length) \n",
    "#     print(\"Debug english_vocab_size =\" , english_vocab_size)\n",
    "#     print(\"Debug french_vocab_size =\" , french_vocab_size)\n",
    "    \n",
    "    #Config Hyperparameters\n",
    "    learning_rate = 1e-3\n",
    "    \n",
    "    #Config Model\n",
    "    inputs = Input(shape=input_shape[1:])\n",
    "    hidden_layer = GRU(units=512, return_sequences=True)(inputs)\n",
    "    outputs = TimeDistributed(Dense(french_vocab_size, activation='softmax'))(hidden_layer)\n",
    "\n",
    "    \n",
    "    #Create Model from parameters defined above\n",
    "    model = Model(inputs=inputs, outputs=outputs)\n",
    "    model.compile(loss=sparse_categorical_crossentropy,\n",
    "                  optimizer=Adam(learning_rate),\n",
    "                  metrics=['accuracy'])\n",
    "    return model\n",
    "tests.test_simple_model(simple_model)\n",
    "\n",
    "# Reshaping the input to work with a basic RNN\n",
    "tmp_x = pad(preproc_english_sentences, max_french_sequence_length)\n",
    "tmp_x = tmp_x.reshape((-1, preproc_french_sentences.shape[-2], 1))\n",
    "\n",
    "# Train the neural network\n",
    "simple_rnn_model = simple_model(\n",
    "    tmp_x.shape,\n",
    "    max_french_sequence_length,\n",
    "    english_vocab_size,\n",
    "    french_vocab_size)\n",
    "simple_rnn_model.fit(tmp_x, preproc_french_sentences, batch_size=1024, epochs=20, validation_split=0.2)\n",
    "\n",
    "# Print prediction(s)\n",
    "print(logits_to_text(simple_rnn_model.predict(tmp_x[:1])[0], french_tokenizer))"
   ]
  },
  {
   "cell_type": "markdown",
   "metadata": {},
   "source": [
    "### Model 2: Embedding (IMPLEMENTATION)\n",
    "![RNN](images/embedding.png)\n",
    "You've turned the words into ids, but there's a better representation of a word.  This is called word embeddings.  An embedding is a vector representation of the word that is close to similar words in n-dimensional space, where the n represents the size of the embedding vectors.\n",
    "\n",
    "In this model, you'll create a RNN model using embedding."
   ]
  },
  {
   "cell_type": "code",
   "execution_count": 63,
   "metadata": {},
   "outputs": [
    {
     "name": "stdout",
     "output_type": "stream",
     "text": [
      "Debug tmp_x shape= (137861, 21)\n",
      "Train on 110288 samples, validate on 27573 samples\n",
      "Epoch 1/15\n",
      "110288/110288 [==============================] - 19s 174us/step - loss: 3.1638 - acc: 0.4343 - val_loss: 2.6019 - val_acc: 0.4867\n",
      "Epoch 2/15\n",
      "110288/110288 [==============================] - 18s 167us/step - loss: 2.3601 - acc: 0.5034 - val_loss: 2.0770 - val_acc: 0.5182\n",
      "Epoch 3/15\n",
      "110288/110288 [==============================] - 18s 167us/step - loss: 1.6903 - acc: 0.5798 - val_loss: 1.4494 - val_acc: 0.6331\n",
      "Epoch 4/15\n",
      "110288/110288 [==============================] - 18s 168us/step - loss: 1.2848 - acc: 0.6734 - val_loss: 1.1387 - val_acc: 0.7090\n",
      "Epoch 5/15\n",
      "110288/110288 [==============================] - 19s 170us/step - loss: 1.0177 - acc: 0.7292 - val_loss: 0.9119 - val_acc: 0.7596\n",
      "Epoch 6/15\n",
      "110288/110288 [==============================] - 19s 171us/step - loss: 0.7980 - acc: 0.7870 - val_loss: 0.7015 - val_acc: 0.8123\n",
      "Epoch 7/15\n",
      "110288/110288 [==============================] - 19s 169us/step - loss: 0.6328 - acc: 0.8286 - val_loss: 0.5669 - val_acc: 0.8454\n",
      "Epoch 8/15\n",
      "110288/110288 [==============================] - 19s 168us/step - loss: 0.5162 - acc: 0.8565 - val_loss: 0.4656 - val_acc: 0.8686\n",
      "Epoch 9/15\n",
      "110288/110288 [==============================] - 18s 166us/step - loss: 0.4314 - acc: 0.8757 - val_loss: 0.4020 - val_acc: 0.8827\n",
      "Epoch 10/15\n",
      "110288/110288 [==============================] - 18s 166us/step - loss: 0.3738 - acc: 0.8884 - val_loss: 0.3559 - val_acc: 0.8932\n",
      "Epoch 11/15\n",
      "110288/110288 [==============================] - 18s 166us/step - loss: 0.3340 - acc: 0.8979 - val_loss: 0.3222 - val_acc: 0.9008\n",
      "Epoch 12/15\n",
      "110288/110288 [==============================] - 18s 166us/step - loss: 0.3075 - acc: 0.9042 - val_loss: 0.2965 - val_acc: 0.9078\n",
      "Epoch 13/15\n",
      "110288/110288 [==============================] - 18s 166us/step - loss: 0.2840 - acc: 0.9100 - val_loss: 0.2836 - val_acc: 0.9093\n",
      "Epoch 14/15\n",
      "110288/110288 [==============================] - 19s 168us/step - loss: 0.2667 - acc: 0.9144 - val_loss: 0.2677 - val_acc: 0.9141\n",
      "Epoch 15/15\n",
      "110288/110288 [==============================] - 18s 167us/step - loss: 0.2546 - acc: 0.9172 - val_loss: 0.2546 - val_acc: 0.9173\n",
      "new jersey est parfois calme en l' automne et est neigeux neigeux en avril <PAD> <PAD> <PAD> <PAD> <PAD> <PAD> <PAD>\n"
     ]
    }
   ],
   "source": [
    "def embed_model(input_shape, output_sequence_length, english_vocab_size, french_vocab_size):\n",
    "    \"\"\"\n",
    "    Build and train a RNN model using word embedding on x and y\n",
    "    :param input_shape: Tuple of input shape\n",
    "    :param output_sequence_length: Length of output sequence\n",
    "    :param english_vocab_size: Number of unique English words in the dataset\n",
    "    :param french_vocab_size: Number of unique French words in the dataset\n",
    "    :return: Keras model built, but not trained\n",
    "    \"\"\"\n",
    "    # TODO: Implement\n",
    "#     print(\"Debug input_shape =\" , input_shape, \"  Input length=\", input_shape[1:][0])\n",
    "#     print(\"Debug output_sequence_length =\" , output_sequence_length) \n",
    "#     print(\"Debug english_vocab_size =\" , english_vocab_size)\n",
    "#     print(\"Debug french_vocab_size =\" , french_vocab_size)\n",
    "    \n",
    "    #Config Hyperparameters\n",
    "    learning_rate = 1e-3\n",
    "    \n",
    "    #Config Model\n",
    "    inputs = Input(shape=input_shape[1:])\n",
    "    embedding_layer = Embedding(input_dim=english_vocab_size,\n",
    "                                output_dim=output_sequence_length,\n",
    "                                mask_zero=False)(inputs)\n",
    "    hidden_layer = GRU(512, return_sequences=True)(embedding_layer)\n",
    "    outputs = TimeDistributed(Dense(french_vocab_size, activation='softmax'))(hidden_layer)\n",
    "    \n",
    "    #Create Model from parameters defined above\n",
    "    model = Model(inputs=inputs, outputs=outputs)\n",
    "    model.compile(loss=sparse_categorical_crossentropy,\n",
    "                  optimizer=Adam(learning_rate),\n",
    "                  metrics=['accuracy'])\n",
    "    \n",
    "    return model\n",
    "tests.test_embed_model(embed_model)\n",
    "\n",
    "\n",
    "# TODO: Reshape the input\n",
    "# Pad the input to work with the Embedding layer\n",
    "tmp_x = pad(preproc_english_sentences, max_french_sequence_length)\n",
    "print(\"Debug tmp_x shape=\", tmp_x.shape )\n",
    "\n",
    "# TODO: Train the neural network\n",
    "embed_rnn_model = embed_model(input_shape = tmp_x.shape,\n",
    "                              output_sequence_length = max_french_sequence_length,\n",
    "                              english_vocab_size = english_vocab_size+1,\n",
    "                              french_vocab_size = french_vocab_size+1)\n",
    "\n",
    "\n",
    "embed_rnn_model.fit(tmp_x, preproc_french_sentences, batch_size=1024, epochs=15, validation_split=0.2)\n",
    "\n",
    "# TODO: Print prediction(s)\n",
    "print(logits_to_text(embed_rnn_model.predict(tmp_x[:1])[0], french_tokenizer))"
   ]
  },
  {
   "cell_type": "markdown",
   "metadata": {},
   "source": [
    "### Model 3: Bidirectional RNNs (IMPLEMENTATION)\n",
    "![RNN](images/bidirectional.png)\n",
    "One restriction of a RNN is that it can't see the future input, only the past.  This is where bidirectional recurrent neural networks come in.  They are able to see the future data."
   ]
  },
  {
   "cell_type": "code",
   "execution_count": 64,
   "metadata": {},
   "outputs": [
    {
     "name": "stdout",
     "output_type": "stream",
     "text": [
      "Using Functional API\n",
      "Using Functional API\n",
      "Train on 110288 samples, validate on 27573 samples\n",
      "Epoch 1/10\n",
      "110288/110288 [==============================] - 17s 155us/step - loss: 2.5344 - acc: 0.4805 - val_loss: 1.8309 - val_acc: 0.5585\n",
      "Epoch 2/10\n",
      "110288/110288 [==============================] - 16s 144us/step - loss: 1.6250 - acc: 0.5873 - val_loss: 1.4918 - val_acc: 0.6033\n",
      "Epoch 3/10\n",
      "110288/110288 [==============================] - 16s 146us/step - loss: 1.4201 - acc: 0.6149 - val_loss: 1.3555 - val_acc: 0.6285\n",
      "Epoch 4/10\n",
      "110288/110288 [==============================] - 16s 145us/step - loss: 1.3046 - acc: 0.6332 - val_loss: 1.2551 - val_acc: 0.6410\n",
      "Epoch 5/10\n",
      "110288/110288 [==============================] - 16s 145us/step - loss: 1.2175 - acc: 0.6470 - val_loss: 1.1808 - val_acc: 0.6531\n",
      "Epoch 6/10\n",
      "110288/110288 [==============================] - 16s 146us/step - loss: 1.1540 - acc: 0.6582 - val_loss: 1.1260 - val_acc: 0.6637\n",
      "Epoch 7/10\n",
      "110288/110288 [==============================] - 16s 145us/step - loss: 1.1043 - acc: 0.6676 - val_loss: 1.0817 - val_acc: 0.6700\n",
      "Epoch 8/10\n",
      "110288/110288 [==============================] - 16s 147us/step - loss: 1.0633 - acc: 0.6727 - val_loss: 1.0412 - val_acc: 0.6731\n",
      "Epoch 9/10\n",
      "110288/110288 [==============================] - 16s 145us/step - loss: 1.0275 - acc: 0.6779 - val_loss: 1.0171 - val_acc: 0.6749\n",
      "Epoch 10/10\n",
      "110288/110288 [==============================] - 16s 146us/step - loss: 0.9959 - acc: 0.6819 - val_loss: 0.9795 - val_acc: 0.6873\n",
      "new jersey est parfois calme en mois et il est il est en <PAD> <PAD> <PAD> <PAD> <PAD> <PAD> <PAD> <PAD>\n"
     ]
    }
   ],
   "source": [
    "def bd_model(input_shape, output_sequence_length, english_vocab_size, french_vocab_size):\n",
    "    \"\"\"\n",
    "    Build and train a bidirectional RNN model on x and y\n",
    "    :param input_shape: Tuple of input shape\n",
    "    :param output_sequence_length: Length of output sequence\n",
    "    :param english_vocab_size: Number of unique English words in the dataset\n",
    "    :param french_vocab_size: Number of unique French words in the dataset\n",
    "    :return: Keras model built, but not trained\n",
    "    \"\"\"\n",
    "    # TODO: Implement\n",
    "    \n",
    "#     print(\"Debug input_shape =\" , input_shape)\n",
    "#     print(\"Debug output_sequence_length =\" , output_sequence_length) \n",
    "#     print(\"Debug english_vocab_size =\" , english_vocab_size)\n",
    "#     print(\"Debug french_vocab_size =\" , french_vocab_size)\n",
    "    \n",
    "    # Hyperparameters\n",
    "    dropout = 0.0\n",
    "    learning_rate = 1e-3\n",
    "    \n",
    "    # Choose Sequential or Functional API implementation ('seq' or 'func')\n",
    "    impl='seq'   \n",
    "    if impl=='func':\n",
    "        # Sequential Model \n",
    "        print(\"Using Sequential model (Note: this version makes the unitary test to fail: Disable tests to use it)\")\n",
    "        from keras.models import Sequential\n",
    "        model = Sequential()\n",
    "        model.add(Bidirectional(GRU(english_vocab_size, dropout=dropout, return_sequences=True)))\n",
    "        model.add(Dense(french_vocab_size, activation='softmax'))\n",
    "        \n",
    "    else:\n",
    "        # model's Functional equivalent\n",
    "        # Note : we could have also used \"Bidirectional(GRU(...))\" instead of buidling the Bidirectional RNNS manually\n",
    "        print(\"Using Functional API\")\n",
    "        from keras.layers import concatenate, add\n",
    "        input_seq = Input(shape=input_shape[1:])\n",
    "        right_rnn = GRU(units=english_vocab_size, return_sequences=True, go_backwards=False)(input_seq)\n",
    "        left_rnn = GRU(units=english_vocab_size, return_sequences=True, go_backwards=True)(input_seq)\n",
    "\n",
    "        # Choose how to merge the 2 rnn layers : add or concatenate\n",
    "        #logits = TimeDistributed(Dense(units=french_vocab_size))(add([right_rnn, left_rnn])) \n",
    "        logits = TimeDistributed(Dense(units=french_vocab_size))(concatenate([right_rnn, left_rnn])) \n",
    "        \n",
    "        model = Model(input_seq, Activation('softmax')(logits))\n",
    "\n",
    "    model.compile(loss=sparse_categorical_crossentropy,\n",
    "                  optimizer=Adam(lr=learning_rate),\n",
    "                  metrics=['accuracy'])\n",
    "    return model\n",
    "tests.test_bd_model(bd_model)\n",
    "\n",
    "\n",
    "# TODO: Train and Print prediction(s)\n",
    "# Pad and Reshape the input to work with a RNN without an Embedding layer\n",
    "tmp_x = pad(preproc_english_sentences, max_french_sequence_length)\n",
    "tmp_x = tmp_x.reshape((-1, preproc_french_sentences.shape[-2], 1))\n",
    "#print(\"Debug tmp_x shape=\", tmp_x.shape )\n",
    "\n",
    "# Train the neural network \n",
    "bd_rnn_model = bd_model(input_shape = tmp_x.shape,\n",
    "                           output_sequence_length = max_french_sequence_length,\n",
    "                           english_vocab_size = english_vocab_size+1,\n",
    "                           french_vocab_size = french_vocab_size+1)\n",
    "\n",
    "#print(model.summary())\n",
    "\n",
    "bd_rnn_model.fit(tmp_x, preproc_french_sentences, batch_size=1024, epochs=10, validation_split=0.2)\n",
    "\n",
    "# Print prediction(s)\n",
    "print(logits_to_text(bd_rnn_model.predict(tmp_x[:1])[0], french_tokenizer))"
   ]
  },
  {
   "cell_type": "markdown",
   "metadata": {},
   "source": [
    "### Model 4: Encoder-Decoder (OPTIONAL)\n",
    "Time to look at encoder-decoder models.  This model is made up of an encoder and decoder. The encoder creates a matrix representation of the sentence.  The decoder takes this matrix as input and predicts the translation as output.\n",
    "\n",
    "Create an encoder-decoder model in the cell below."
   ]
  },
  {
   "cell_type": "code",
   "execution_count": 66,
   "metadata": {},
   "outputs": [
    {
     "name": "stdout",
     "output_type": "stream",
     "text": [
      "Train on 110288 samples, validate on 27573 samples\n",
      "Epoch 1/15\n",
      "110288/110288 [==============================] - 28s 258us/step - loss: 3.0592 - acc: 0.4334 - val_loss: 2.5474 - val_acc: 0.4735\n",
      "Epoch 2/15\n",
      "110288/110288 [==============================] - 27s 245us/step - loss: 2.2156 - acc: 0.5074 - val_loss: 2.0319 - val_acc: 0.5215\n",
      "Epoch 3/15\n",
      "110288/110288 [==============================] - 27s 248us/step - loss: 1.9049 - acc: 0.5409 - val_loss: 1.8209 - val_acc: 0.5527\n",
      "Epoch 4/15\n",
      "110288/110288 [==============================] - 27s 247us/step - loss: 1.7654 - acc: 0.5578 - val_loss: 1.7118 - val_acc: 0.5604\n",
      "Epoch 5/15\n",
      "110288/110288 [==============================] - 27s 247us/step - loss: 1.6964 - acc: 0.5648 - val_loss: 1.5727 - val_acc: 0.5803\n",
      "Epoch 6/15\n",
      "110288/110288 [==============================] - 27s 249us/step - loss: 1.5058 - acc: 0.5917 - val_loss: 1.4574 - val_acc: 0.5996\n",
      "Epoch 7/15\n",
      "110288/110288 [==============================] - 27s 246us/step - loss: 1.4311 - acc: 0.6046 - val_loss: 1.3977 - val_acc: 0.6113\n",
      "Epoch 8/15\n",
      "110288/110288 [==============================] - 28s 250us/step - loss: 1.3824 - acc: 0.6150 - val_loss: 1.3560 - val_acc: 0.6221\n",
      "Epoch 9/15\n",
      "110288/110288 [==============================] - 27s 249us/step - loss: 1.3452 - acc: 0.6228 - val_loss: 1.3431 - val_acc: 0.6190\n",
      "Epoch 10/15\n",
      "110288/110288 [==============================] - 28s 251us/step - loss: 1.3234 - acc: 0.6265 - val_loss: 1.3115 - val_acc: 0.6314\n",
      "Epoch 11/15\n",
      "110288/110288 [==============================] - 28s 250us/step - loss: 1.3101 - acc: 0.6297 - val_loss: 1.2861 - val_acc: 0.6343\n",
      "Epoch 12/15\n",
      "110288/110288 [==============================] - 27s 247us/step - loss: 1.2908 - acc: 0.6332 - val_loss: 1.2729 - val_acc: 0.6352\n",
      "Epoch 13/15\n",
      "110288/110288 [==============================] - 27s 249us/step - loss: 1.2758 - acc: 0.6350 - val_loss: 1.2894 - val_acc: 0.6324\n",
      "Epoch 14/15\n",
      "110288/110288 [==============================] - 27s 246us/step - loss: 1.2700 - acc: 0.6355 - val_loss: 1.2585 - val_acc: 0.6377\n",
      "Epoch 15/15\n",
      "110288/110288 [==============================] - 27s 248us/step - loss: 1.2757 - acc: 0.6341 - val_loss: 1.2524 - val_acc: 0.6379\n",
      "new jersey est parfois agréable en l' et il est est en en <PAD> <PAD> <PAD> <PAD> <PAD> <PAD> <PAD> <PAD>\n"
     ]
    }
   ],
   "source": [
    "def encdec_model(input_shape, output_sequence_length, english_vocab_size, french_vocab_size):\n",
    "    \"\"\"\n",
    "    Build and train an encoder-decoder model on x and y\n",
    "    :param input_shape: Tuple of input shape\n",
    "    :param output_sequence_length: Length of output sequence\n",
    "    :param english_vocab_size: Number of unique English words in the dataset\n",
    "    :param french_vocab_size: Number of unique French words in the dataset\n",
    "    :return: Keras model built, but not trained\n",
    "    \"\"\"\n",
    "    # OPTIONAL: Implement\n",
    "#     print(\"Debug input_shape =\" , input_shape, \"  input_shape[1:] =\", input_shape[1:], \"  Input length=\", input_shape[1:][0])\n",
    "#     print(\"Debug output_sequence_length =\" , output_sequence_length) \n",
    "#     print(\"Debug english_vocab_size =\" , english_vocab_size)\n",
    "#     print(\"Debug french_vocab_size =\" , french_vocab_size)\n",
    "        \n",
    "    #Config Hyperparameters\n",
    "    learning_rate = 1e-3\n",
    "    latent_dim = 512\n",
    "\n",
    "    #Config Encoder\n",
    "    encoder_inputs = Input(shape=input_shape[1:])\n",
    "    encoder_gru = GRU(output_sequence_length)(encoder_inputs)\n",
    "    encoder_outputs = Dense(latent_dim, activation='relu')(encoder_gru)\n",
    "    \n",
    "    #COnfig Decoder\n",
    "    decoder_inputs = RepeatVector(output_sequence_length)(encoder_outputs)\n",
    "    decoder_gru = GRU(latent_dim, return_sequences=True)(decoder_inputs)\n",
    "    output_layer = TimeDistributed(Dense(french_vocab_size, activation='softmax'))\n",
    "    outputs = output_layer(decoder_gru)\n",
    "\n",
    "    #Create Model from parameters defined above\n",
    "    model = Model(inputs=encoder_inputs, outputs=outputs)\n",
    "    model.compile(loss=sparse_categorical_crossentropy,\n",
    "                  optimizer=Adam(learning_rate),\n",
    "                  metrics=['accuracy'])\n",
    "    return model\n",
    "tests.test_encdec_model(encdec_model)\n",
    "\n",
    "\n",
    "# OPTIONAL: Train and Print prediction(s)\n",
    "# Pad and Reshape the input to work with the Embedding layer\n",
    "tmp_x = pad(preproc_english_sentences, max_french_sequence_length)\n",
    "tmp_x = tmp_x.reshape((-1, preproc_french_sentences.shape[-2], 1))\n",
    "#print(\"Debug tmp_x shape=\", tmp_x.shape )\n",
    "\n",
    "# Train the neural network \n",
    "encdec_rnn_model = encdec_model(input_shape = tmp_x.shape,\n",
    "                                output_sequence_length = max_french_sequence_length,\n",
    "                                english_vocab_size = english_vocab_size+1,\n",
    "                                french_vocab_size = french_vocab_size+1)\n",
    "    \n",
    "#print(encdec_rnn_model.summary())\n",
    "\n",
    "encdec_rnn_model.fit(tmp_x, preproc_french_sentences, batch_size=1024, epochs=15, validation_split=0.2) # callbacks=[tensorboard]\n",
    "\n",
    "# Print prediction(s)\n",
    "print(logits_to_text(encdec_rnn_model.predict(tmp_x[:1])[0], french_tokenizer))"
   ]
  },
  {
   "cell_type": "markdown",
   "metadata": {},
   "source": [
    "### Model 5: Custom (IMPLEMENTATION)\n",
    "Use everything you learned from the previous models to create a model that incorporates embedding and a bidirectional rnn into one model."
   ]
  },
  {
   "cell_type": "code",
   "execution_count": 67,
   "metadata": {},
   "outputs": [
    {
     "name": "stdout",
     "output_type": "stream",
     "text": [
      "Final Model Loaded\n",
      "_____________________________________________________________________________________________________________________________\n",
      "Layer (type)                                            Output Shape                                      Param #            \n",
      "=============================================================================================================================\n",
      "input_27 (InputLayer)                                   (None, 21)                                        0                  \n",
      "_____________________________________________________________________________________________________________________________\n",
      "embedding_8 (Embedding)                                 (None, 21, 21)                                    4200               \n",
      "_____________________________________________________________________________________________________________________________\n",
      "bidirectional_3 (Bidirectional)                         (None, 42)                                        5418               \n",
      "_____________________________________________________________________________________________________________________________\n",
      "dense_30 (Dense)                                        (None, 512)                                       22016              \n",
      "_____________________________________________________________________________________________________________________________\n",
      "repeat_vector_5 (RepeatVector)                          (None, 21, 512)                                   0                  \n",
      "_____________________________________________________________________________________________________________________________\n",
      "bidirectional_4 (Bidirectional)                         (None, 21, 1024)                                  3148800            \n",
      "_____________________________________________________________________________________________________________________________\n",
      "time_distributed_27 (TimeDistributed)                   (None, 21, 345)                                   353625             \n",
      "=============================================================================================================================\n",
      "Total params: 3,534,059\n",
      "Trainable params: 3,534,059\n",
      "Non-trainable params: 0\n",
      "_____________________________________________________________________________________________________________________________\n",
      "None\n",
      "Train on 110288 samples, validate on 27573 samples\n",
      "Epoch 1/10\n",
      "110288/110288 [==============================] - 55s 502us/step - loss: 2.7720 - acc: 0.4561 - val_loss: 2.0426 - val_acc: 0.5060\n",
      "Epoch 2/10\n",
      "110288/110288 [==============================] - 54s 486us/step - loss: 1.7464 - acc: 0.5545 - val_loss: 1.4660 - val_acc: 0.5998\n",
      "Epoch 3/10\n",
      "110288/110288 [==============================] - 54s 486us/step - loss: 1.3208 - acc: 0.6412 - val_loss: 1.1718 - val_acc: 0.6781\n",
      "Epoch 4/10\n",
      "110288/110288 [==============================] - 54s 489us/step - loss: 1.1059 - acc: 0.6892 - val_loss: 1.0619 - val_acc: 0.6998\n",
      "Epoch 5/10\n",
      "110288/110288 [==============================] - 54s 487us/step - loss: 1.0020 - acc: 0.7125 - val_loss: 0.9618 - val_acc: 0.7219\n",
      "Epoch 6/10\n",
      "110288/110288 [==============================] - 54s 489us/step - loss: 0.9664 - acc: 0.7187 - val_loss: 0.9226 - val_acc: 0.7280\n",
      "Epoch 7/10\n",
      "110288/110288 [==============================] - 54s 487us/step - loss: 0.8950 - acc: 0.7316 - val_loss: 0.8774 - val_acc: 0.7341\n",
      "Epoch 8/10\n",
      "110288/110288 [==============================] - 54s 486us/step - loss: 0.8458 - acc: 0.7405 - val_loss: 0.8208 - val_acc: 0.7449\n",
      "Epoch 9/10\n",
      "110288/110288 [==============================] - 53s 482us/step - loss: 0.8009 - acc: 0.7494 - val_loss: 0.7702 - val_acc: 0.7583\n",
      "Epoch 10/10\n",
      "110288/110288 [==============================] - 53s 482us/step - loss: 0.7474 - acc: 0.7635 - val_loss: 0.7214 - val_acc: 0.7726\n",
      "new jersey est parfois chaud au cours de il est et en en <PAD> <PAD> <PAD> <PAD> <PAD> <PAD> <PAD> <PAD>\n"
     ]
    }
   ],
   "source": [
    "def model_final(input_shape, output_sequence_length, english_vocab_size, french_vocab_size):\n",
    "    \"\"\"\n",
    "    Build and train a model that incorporates embedding, encoder-decoder, and bidirectional RNN on x and y\n",
    "    :param input_shape: Tuple of input shape\n",
    "    :param output_sequence_length: Length of output sequence\n",
    "    :param english_vocab_size: Number of unique English words in the dataset\n",
    "    :param french_vocab_size: Number of unique French words in the dataset\n",
    "    :return: Keras model built, but not trained\n",
    "    \"\"\"\n",
    "    #Config Hyperparameters\n",
    "    learning_rate = 1e-3\n",
    "    latent_dim = 512\n",
    "    \n",
    "    #Config Model\n",
    "    inputs = Input(shape=input_shape[1:])\n",
    "    embedding_layer = Embedding(input_dim=english_vocab_size,\n",
    "                                output_dim=output_sequence_length,\n",
    "                                mask_zero=False)(inputs)\n",
    "    bd_layer = Bidirectional(GRU(output_sequence_length))(embedding_layer)\n",
    "    encoding_layer = Dense(latent_dim, activation='relu')(bd_layer)\n",
    "    decoding_layer = RepeatVector(output_sequence_length)(encoding_layer)\n",
    "    output_layer = Bidirectional(GRU(latent_dim, return_sequences=True))(decoding_layer)\n",
    "    outputs = TimeDistributed(Dense(french_vocab_size, activation='softmax'))(output_layer)\n",
    "    \n",
    "    #Create Model from parameters defined above\n",
    "    model = Model(inputs=inputs, outputs=outputs)\n",
    "    model.compile(loss=sparse_categorical_crossentropy,\n",
    "                  optimizer=Adam(learning_rate),\n",
    "                  metrics=['accuracy'])\n",
    "    \n",
    "    return model\n",
    "tests.test_model_final(model_final)\n",
    "\n",
    "\n",
    "print('Final Model Loaded')\n",
    "\n",
    "# Train and Print prediction(s)\n",
    "\n",
    "# Pad the input to work with the Embedding layer\n",
    "tmp_x = pad(preproc_english_sentences, max_french_sequence_length)\n",
    "#print(\"Debug tmp_x shape=\", tmp_x.shape )\n",
    "\n",
    "\n",
    "# Train the neural network \n",
    "final_rnn_model = model_final(input_shape = tmp_x.shape,\n",
    "                              output_sequence_length = max_french_sequence_length,\n",
    "                              english_vocab_size = english_vocab_size+1,\n",
    "                              french_vocab_size = french_vocab_size+1)\n",
    "\n",
    "print(final_rnn_model.summary(line_length=125))\n",
    "\n",
    "\n",
    "final_rnn_model.fit(tmp_x, preproc_french_sentences, batch_size=1024, epochs=10, validation_split=0.2)\n",
    "\n",
    "# Print prediction(s)\n",
    "print(logits_to_text(final_rnn_model.predict(tmp_x[:1])[0], french_tokenizer))"
   ]
  },
  {
   "cell_type": "markdown",
   "metadata": {},
   "source": [
    "## Prediction (IMPLEMENTATION)"
   ]
  },
  {
   "cell_type": "code",
   "execution_count": 68,
   "metadata": {},
   "outputs": [
    {
     "name": "stdout",
     "output_type": "stream",
     "text": [
      "Train on 110288 samples, validate on 27573 samples\n",
      "Epoch 1/20\n",
      "110288/110288 [==============================] - 54s 488us/step - loss: 2.8426 - acc: 0.4476 - val_loss: 2.1296 - val_acc: 0.4982\n",
      "Epoch 2/20\n",
      "110288/110288 [==============================] - 52s 468us/step - loss: 1.8194 - acc: 0.5454 - val_loss: 1.5702 - val_acc: 0.5859\n",
      "Epoch 3/20\n",
      "110288/110288 [==============================] - 51s 466us/step - loss: 1.3795 - acc: 0.6270 - val_loss: 1.2496 - val_acc: 0.6548\n",
      "Epoch 4/20\n",
      "110288/110288 [==============================] - 52s 467us/step - loss: 1.1448 - acc: 0.6827 - val_loss: 1.0616 - val_acc: 0.7011\n",
      "Epoch 5/20\n",
      "110288/110288 [==============================] - 51s 464us/step - loss: 1.0000 - acc: 0.7106 - val_loss: 0.9542 - val_acc: 0.7195\n",
      "Epoch 6/20\n",
      "110288/110288 [==============================] - 52s 469us/step - loss: 0.9069 - acc: 0.7295 - val_loss: 0.8594 - val_acc: 0.7409\n",
      "Epoch 7/20\n",
      "110288/110288 [==============================] - 52s 470us/step - loss: 0.8312 - acc: 0.7471 - val_loss: 0.7923 - val_acc: 0.7581\n",
      "Epoch 8/20\n",
      "110288/110288 [==============================] - 52s 470us/step - loss: 0.7646 - acc: 0.7649 - val_loss: 0.7499 - val_acc: 0.7721\n",
      "Epoch 9/20\n",
      "110288/110288 [==============================] - 52s 473us/step - loss: 0.7106 - acc: 0.7798 - val_loss: 0.6778 - val_acc: 0.7901\n",
      "Epoch 10/20\n",
      "110288/110288 [==============================] - 52s 471us/step - loss: 0.6609 - acc: 0.7948 - val_loss: 0.6617 - val_acc: 0.7909\n",
      "Epoch 11/20\n",
      "110288/110288 [==============================] - 52s 468us/step - loss: 0.6184 - acc: 0.8066 - val_loss: 0.6204 - val_acc: 0.8082\n",
      "Epoch 12/20\n",
      "110288/110288 [==============================] - 51s 466us/step - loss: 0.5735 - acc: 0.8193 - val_loss: 0.5582 - val_acc: 0.8234\n",
      "Epoch 13/20\n",
      "110288/110288 [==============================] - 52s 469us/step - loss: 0.5380 - acc: 0.8284 - val_loss: 0.5284 - val_acc: 0.8316\n",
      "Epoch 14/20\n",
      "110288/110288 [==============================] - 52s 472us/step - loss: 0.5096 - acc: 0.8353 - val_loss: 0.4850 - val_acc: 0.8443\n",
      "Epoch 15/20\n",
      "110288/110288 [==============================] - 52s 468us/step - loss: 0.4723 - acc: 0.8469 - val_loss: 0.4568 - val_acc: 0.8523\n",
      "Epoch 16/20\n",
      "110288/110288 [==============================] - 52s 471us/step - loss: 0.4405 - acc: 0.8564 - val_loss: 0.4315 - val_acc: 0.8597\n",
      "Epoch 17/20\n",
      "110288/110288 [==============================] - 52s 472us/step - loss: 0.4091 - acc: 0.8666 - val_loss: 0.4027 - val_acc: 0.8693\n",
      "Epoch 18/20\n",
      "110288/110288 [==============================] - 52s 470us/step - loss: 0.3834 - acc: 0.8744 - val_loss: 0.3829 - val_acc: 0.8730\n",
      "Epoch 19/20\n",
      "110288/110288 [==============================] - 52s 470us/step - loss: 0.3614 - acc: 0.8805 - val_loss: 0.3600 - val_acc: 0.8807\n",
      "Epoch 20/20\n",
      "110288/110288 [==============================] - 52s 470us/step - loss: 0.3340 - acc: 0.8885 - val_loss: 0.3330 - val_acc: 0.8893\n",
      "Sample 1:\n",
      "il a vu un vieux camion bleu <PAD> <PAD> <PAD> <PAD> <PAD> <PAD> <PAD> <PAD> <PAD> <PAD> <PAD> <PAD> <PAD> <PAD>\n",
      "Il a vu un vieux camion jaune\n",
      "Sample 2:\n",
      "new jersey est parfois calme à l'automne et il est et en avril <PAD> <PAD> <PAD> <PAD> <PAD> <PAD> <PAD> <PAD>\n",
      "new jersey est parfois calme pendant l' automne et il est neigeux en avril <PAD> <PAD> <PAD> <PAD> <PAD> <PAD> <PAD>\n"
     ]
    }
   ],
   "source": [
    "def final_predictions(x, y, x_tk, y_tk):\n",
    "    \"\"\"\n",
    "    Gets predictions using the final model\n",
    "    :param x: Preprocessed English data\n",
    "    :param y: Preprocessed French data\n",
    "    :param x_tk: English tokenizer\n",
    "    :param y_tk: French tokenizer\n",
    "    \"\"\"\n",
    "    # TODO: Train neural network using model_final\n",
    "    model = model_final(input_shape = x.shape,\n",
    "                        output_sequence_length = y.shape[1],\n",
    "                        english_vocab_size = len(x_tk.word_index)+1,\n",
    "                        french_vocab_size = len(y_tk.word_index)+1)\n",
    "\n",
    "    model.fit(x, y, batch_size=1024, epochs=20, validation_split=0.2)\n",
    "\n",
    "    \n",
    "    ## DON'T EDIT ANYTHING BELOW THIS LINE\n",
    "    y_id_to_word = {value: key for key, value in y_tk.word_index.items()}\n",
    "    y_id_to_word[0] = '<PAD>'\n",
    "\n",
    "    sentence = 'he saw a old yellow truck'\n",
    "    sentence = [x_tk.word_index[word] for word in sentence.split()]\n",
    "    sentence = pad_sequences([sentence], maxlen=x.shape[-1], padding='post')\n",
    "    sentences = np.array([sentence[0], x[0]])\n",
    "    predictions = model.predict(sentences, len(sentences))\n",
    "\n",
    "    print('Sample 1:')\n",
    "    print(' '.join([y_id_to_word[np.argmax(x)] for x in predictions[0]]))\n",
    "    print('Il a vu un vieux camion jaune')\n",
    "    print('Sample 2:')\n",
    "    print(' '.join([y_id_to_word[np.argmax(x)] for x in predictions[1]]))\n",
    "    print(' '.join([y_id_to_word[np.max(x)] for x in y[0]]))\n",
    "\n",
    "\n",
    "final_predictions(preproc_english_sentences, preproc_french_sentences, english_tokenizer, french_tokenizer)"
   ]
  },
  {
   "cell_type": "markdown",
   "metadata": {},
   "source": [
    "## Submission\n",
    "When you're ready to submit, complete the following steps:\n",
    "1. Review the [rubric](https://review.udacity.com/#!/rubrics/1004/view) to ensure your submission meets all requirements to pass\n",
    "2. Generate an HTML version of this notebook\n",
    "\n",
    "  - Run the next cell to attempt automatic generation (this is the recommended method in Workspaces)\n",
    "  - Navigate to **FILE -> Download as -> HTML (.html)**\n",
    "  - Manually generate a copy using `nbconvert` from your shell terminal\n",
    "```\n",
    "$ pip install nbconvert\n",
    "$ python -m nbconvert machine_translation.ipynb\n",
    "```\n",
    "  \n",
    "3. Submit the project\n",
    "\n",
    "  - If you are in a Workspace, simply click the \"Submit Project\" button (bottom towards the right)\n",
    "  \n",
    "  - Otherwise, add the following files into a zip archive and submit them \n",
    "  - `helper.py`\n",
    "  - `machine_translation.ipynb`\n",
    "  - `machine_translation.html`\n",
    "    - You can export the notebook by navigating to **File -> Download as -> HTML (.html)**."
   ]
  },
  {
   "cell_type": "markdown",
   "metadata": {},
   "source": [
    "### Generate the html\n",
    "\n",
    "**Save your notebook before running the next cell to generate the HTML output.** Then submit your project."
   ]
  },
  {
   "cell_type": "code",
   "execution_count": 53,
   "metadata": {},
   "outputs": [
    {
     "data": {
      "text/plain": [
       "['[NbConvertApp] Converting notebook machine_translation.ipynb to html',\n",
       " '[NbConvertApp] Writing 393774 bytes to machine_translation.html',\n",
       " '[NbConvertApp] Converting notebook machine_translation-zh.ipynb to html',\n",
       " '[NbConvertApp] Writing 328614 bytes to machine_translation-zh.html']"
      ]
     },
     "execution_count": 53,
     "metadata": {},
     "output_type": "execute_result"
    }
   ],
   "source": [
    "# Save before you run this cell!\n",
    "!!jupyter nbconvert *.ipynb"
   ]
  },
  {
   "cell_type": "markdown",
   "metadata": {},
   "source": [
    "## Optional Enhancements\n",
    "\n",
    "This project focuses on learning various network architectures for machine translation, but we don't evaluate the models according to best practices by splitting the data into separate test & training sets -- so the model accuracy is overstated. Use the [`sklearn.model_selection.train_test_split()`](http://scikit-learn.org/stable/modules/generated/sklearn.model_selection.train_test_split.html) function to create separate training & test datasets, then retrain each of the models using only the training set and evaluate the prediction accuracy using the hold out test set. Does the \"best\" model change?"
   ]
  }
 ],
 "metadata": {
  "kernelspec": {
   "display_name": "Python 3",
   "language": "python",
   "name": "python3"
  },
  "language_info": {
   "codemirror_mode": {
    "name": "ipython",
    "version": 3
   },
   "file_extension": ".py",
   "mimetype": "text/x-python",
   "name": "python",
   "nbconvert_exporter": "python",
   "pygments_lexer": "ipython3",
   "version": "3.6.3"
  }
 },
 "nbformat": 4,
 "nbformat_minor": 1
}
